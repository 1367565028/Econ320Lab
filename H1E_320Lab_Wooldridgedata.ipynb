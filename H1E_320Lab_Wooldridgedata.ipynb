{
 "cells": [
  {
   "cell_type": "markdown",
   "metadata": {},
   "source": [
    "\n",
    "<h1 style=\"text-align: center; color: purple;\" markdown=\"1\">Econ 320 Python Lab. A First Look at the Woodridge Data </h1>\n",
    "<h2 style=\"text-align: center; color: purple;\" markdown=\"1\">Handout 1 </h2>"
   ]
  },
  {
   "cell_type": "markdown",
   "metadata": {},
   "source": [
    "# The package set up \n",
    "Most of the packages that you have used so far are installed in the Anaconda or VSCode but many other useful packages need to be installed. \n",
    "Here is how you do it. \n",
    "\n",
    "In the terminal or command window install the package wooldrigde by using the line of code below\n",
    "\n",
    "`pip install wooldridge`\n",
    "<br>\n",
    "or \n",
    "<br>\n",
    "`conda install wooldridge`\n",
    "\n",
    "**or even easier use the ! sing in a jupyter notebook cell, this opens a bash window in the back for you and installs the packages that are not preinstalled in Anaconda.**\n",
    "\n",
    "`!pip install wooldridge` \n",
    "\n",
    "<br>\n",
    "\n",
    "> If you are working with cloud computing pacakges need to be install in every session. (Google colab, DataCamp workspace AWS etc)\n",
    "\n",
    "> If working with traditional computing (your computer) if a package is already installed you will get a message you don't need to install it again. \n",
    "\n",
    "> **Recommended:** Hide the output of the installation using \n",
    "`%%capture`  this will hide the output. \n",
    "\n"
   ]
  },
  {
   "cell_type": "code",
   "execution_count": null,
   "metadata": {},
   "outputs": [],
   "source": [
    "%%capture  \n",
    "!pip install wooldridge\n"
   ]
  },
  {
   "cell_type": "markdown",
   "metadata": {},
   "source": [
    "#### Import the necessary packages into your notebook\n",
    "\n",
    "The wooldridge package contains all the datasets from your textbook. It saves you time because now you don't have to look for these online and import them. They come with the package. \n",
    "However there is also possible to access the datasets by importing those directly from the website "
   ]
  },
  {
   "cell_type": "code",
   "execution_count": null,
   "metadata": {},
   "outputs": [],
   "source": [
    "# After having installed the package you need to import the package into your \n",
    "# notebook to access the datasets. \n",
    "# import the other neccesary packages here\n",
    "import numpy as np \n",
    "import pandas as pd\n",
    "\n",
    "# import packages for graphs\n",
    "\n",
    "\n",
    "#describe the data with only 3 decimal places\n"
   ]
  },
  {
   "cell_type": "markdown",
   "metadata": {},
   "source": [
    "# Inspect your data to support your hypothesis. \n",
    "\n",
    "We are going to be working with the `affairs` data from Wooldridge, this datasets contains variables related to the characteristics of marriages and whether or not there have been affairs in these marriages. We will inspect the data and explore the relationship between marriange happiness and having kids by looking at some crosstabulation of variables. \n"
   ]
  },
  {
   "cell_type": "code",
   "execution_count": null,
   "metadata": {},
   "outputs": [],
   "source": [
    "# load data named <dataset> and save it in an object with the same name\n",
    "# if you are using the package wooldridge you can use the following code\n",
    "\n",
    "\n",
    "# If not using the package wooldridge or this is not working \n",
    "# You can download your dataset using the options below \n",
    "# Downloading and reading the data (Stata format)\n",
    "affairs1 = pd.read_stata('http://fmwww.bc.edu/ec-p/data/wooldridge/affairs.dta')\n",
    "\n",
    "# Use info.() to inspect your data set, the variables but also the types. But do not forgte to look at the codebook. \n",
    "affairs.info()"
   ]
  },
  {
   "cell_type": "code",
   "execution_count": null,
   "metadata": {},
   "outputs": [],
   "source": [
    "# Use method describe() to look at describe statistics of your data.\n",
    "affairs.describe()\n",
    "# Easier than this is to change the display options in the package set up cell above.\n"
   ]
  },
  {
   "cell_type": "markdown",
   "metadata": {},
   "source": [
    "**Notice** the descriptive stats for some of the variables do not make sense.   \n",
    "**For example:** What does a mean of 3.16 mean for the religion variable. \n",
    "\n",
    "When we analyse data we need to **read** what we present, a code that runs does not guarantee meanignfull data analysis."
   ]
  },
  {
   "cell_type": "code",
   "execution_count": null,
   "metadata": {},
   "outputs": [],
   "source": [
    "\n",
    "#average number of affairs for kids =0\n"
   ]
  },
  {
   "cell_type": "code",
   "execution_count": null,
   "metadata": {},
   "outputs": [],
   "source": [
    "#pivot table of average number of affairs for each category of kids\n"
   ]
  },
  {
   "cell_type": "code",
   "execution_count": null,
   "metadata": {},
   "outputs": [],
   "source": []
  },
  {
   "cell_type": "markdown",
   "metadata": {},
   "source": [
    "### Practice inspecting datasets\n",
    "\n",
    "Taken from Wooldridge computer exercise 2 chapter 1. \n",
    "\n",
    "Use the data in BWGHT to answer this question. \n",
    "the description of this dataset is here \n",
    "\n",
    "http://fmwww.bc.edu/ec-p/data/wooldridge/bwght.des\n",
    "\n",
    "* (i)\tHow many women are in the sample, and how many report smoking during pregnancy?\n",
    "* (ii)\tWhat is the average number of cigarettes smoked per day? \n",
    "* (iii)\tAmong women who smoked during pregnancy, what is the average number of cigarettes smoked per day? \n",
    "* (iv)\tFind the average of fatheduc in the sample. Why are only 1,192 observations used to compute this average?\n",
    "* (v)\tReport the average family income and its standard deviation in dollars.\n",
    "\n",
    "\n"
   ]
  },
  {
   "cell_type": "code",
   "execution_count": null,
   "metadata": {},
   "outputs": [],
   "source": [
    "#Load data \n",
    "bwght = woo.dataWoo('bwght')\n",
    "\n",
    "# Translate the following into Python using Pandas \n",
    "# shape method provides a vector with the dimensions of an array in python,\n",
    "# the element in the first  position, 0, represents rows, shape[0]\n",
    "# the element in the second  position, 1, represents rows, shape[1]\n",
    "women = \n",
    "smokepreg=\n",
    "avgcig= \n",
    "smoke_avgcig=\n",
    "fatheducobs= \n",
    "avgfathereduc = \n",
    "faminct = \n",
    "\n",
    "print(f'Number of women: {women}')\n",
    "print(f'Number of women that smoke during pregnancy: {smokepreg}')\n",
    "print(f'Average number of cigarettes smoked per day: {round(avgcig, 3)}')\n",
    "print(f'Average number of cigarettes smoked per day, among smokers: {round(smoke_avgcig,3)}')\n",
    "print(f'Average of fatheduc in the sample: {round(avgfathereduc, 3)}')\n",
    "print(f'Number of observations that have fathers education: {fatheducobs}')\n",
    "print(f'Average family income: {round(faminct, 2)}')\n",
    "#family income standard deviation\n",
    "print(f'Family income std: {round(faminct.std(), 2)}')\n",
    "\n"
   ]
  },
  {
   "cell_type": "markdown",
   "metadata": {},
   "source": [
    "\n",
    "## Correlations\n",
    "\n",
    "Let's look back at our CEO salary data ceosal1\n",
    "\n",
    "* extract the variables roe, salary and sales and calculate the correlations among those, name the object cormat and use parenthesis to print the object. \n",
    "\n"
   ]
  },
  {
   "cell_type": "code",
   "execution_count": null,
   "metadata": {},
   "outputs": [],
   "source": [
    "# read data from Wooldridge's package\n",
    "ceosal1 = woo.dataWoo('ceosal1')"
   ]
  },
  {
   "cell_type": "markdown",
   "metadata": {},
   "source": [
    "Let's look at the correlation plots (More on this next class)"
   ]
  },
  {
   "cell_type": "code",
   "execution_count": null,
   "metadata": {},
   "outputs": [],
   "source": [
    "ceosal1.corr()"
   ]
  },
  {
   "cell_type": "markdown",
   "metadata": {},
   "source": [
    "### What is seaborn?\n",
    "Seaborn is a library for making statistical graphics in Python. It builds on top of matplotlib and integrates closely with pandas data structures. Seaborn helps you explore and understand your data."
   ]
  },
  {
   "cell_type": "code",
   "execution_count": null,
   "metadata": {},
   "outputs": [],
   "source": [
    "# Set theme and style\n",
    "#sns.set_style('white')\n",
    "#sns.set_context('paper')\n",
    "#sns.set_style('ticks')\n",
    "# Basic correlogram\n",
    "#sns.pairplot(ceosal1)\n",
    "plt.matshow(ceosal1.corr())\n",
    "plt.show()\n",
    "\n",
    "\n"
   ]
  },
  {
   "cell_type": "code",
   "execution_count": null,
   "metadata": {},
   "outputs": [],
   "source": [
    "# Use this line of code to print this handout into html \n",
    "!jupyter nbconvert --to html H1_320Lab__Wooldridgedata.ipynb"
   ]
  },
  {
   "cell_type": "markdown",
   "metadata": {},
   "source": [
    "\n",
    "<style>\n",
    "div.gray { background-color:#dbdbdb; border-radius: 5px; padding: 20px;}\n",
    "</style>\n",
    "<div class = \"gray\">\n",
    "\n",
    "**Packages used in this document**\n",
    "\n",
    "`wooldridge`\n",
    "`matplot.lib`\n",
    "`pandas`\n",
    "`numpy` \n",
    "`seaborn`\n",
    "    \n",
    "\n",
    "</div>\n",
    "\n",
    "</div>\n",
    "\n",
    "<br>\n",
    "\n",
    "&nbsp;\n",
    "\n",
    "<hr />\n",
    "\n",
    "<p style=\"text-align: center;\">ECON320 Python Programming Laboratory</a></p>\n",
    "<p style=\"text-align: center;\">Professor <em> Paloma Lopez de mesa Moyano</em></a></p>\n",
    "<p style=\"text-align: center;\"><span style=\"color: #6666FF;\"><em>paloma.moyano@emory.edu</em></span></p>\n",
    "\n",
    "<p style=\"text-align: center;\">Department of Economics</a></p>\n",
    "<p style=\"text-align: center;\">Emory University</a></p>\n",
    "\n",
    "&nbsp;"
   ]
  }
 ],
 "metadata": {
  "kernelspec": {
   "display_name": "Python 3 (ipykernel)",
   "language": "python",
   "name": "python3"
  },
  "language_info": {
   "codemirror_mode": {
    "name": "ipython",
    "version": 3
   },
   "file_extension": ".py",
   "mimetype": "text/x-python",
   "name": "python",
   "nbconvert_exporter": "python",
   "pygments_lexer": "ipython3",
   "version": "3.7.11"
  },
  "vscode": {
   "interpreter": {
    "hash": "40d3a090f54c6569ab1632332b64b2c03c39dcf918b08424e98f38b5ae0af88f"
   }
  }
 },
 "nbformat": 4,
 "nbformat_minor": 4
}
