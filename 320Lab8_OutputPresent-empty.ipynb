{
 "cells": [
  {
   "cell_type": "code",
   "execution_count": 13,
   "metadata": {},
   "outputs": [
    {
     "data": {
      "text/html": [
       "<script>\n",
       "code_show=true;\n",
       "function code_toggle() {\n",
       " if (code_show){\n",
       " $('div.input').hide();\n",
       " } else {\n",
       " $('div.input').show();\n",
       " }\n",
       " code_show = !code_show\n",
       "} $( document ).ready(code_toggle);\n",
       "</script>  <form action=\"javascript:code_toggle()\"><input type=\"submit\" value=\"Click here to toggle on/off the raw code.\"></form>"
      ],
      "text/plain": [
       "<IPython.core.display.HTML object>"
      ]
     },
     "execution_count": 13,
     "metadata": {},
     "output_type": "execute_result"
    }
   ],
   "source": [
    "from IPython.display import HTML\n",
    "HTML('''<script>\n",
    "code_show=true;\n",
    "function code_toggle() {\n",
    " if (code_show){\n",
    " $('div.input').hide();\n",
    " } else {\n",
    " $('div.input').show();\n",
    " }\n",
    " code_show = !code_show\n",
    "} $( document ).ready(code_toggle);\n",
    "</script>  <form action=\"javascript:code_toggle()\"><input type=\"submit\" value=\"Click here to toggle on/off the raw code.\"></form>''')"
   ]
  },
  {
   "cell_type": "markdown",
   "metadata": {},
   "source": [
    "    \n",
    "<h1 style=\"text-align: center; color: purple;\" markdown=\"1\">Econ 320 Python: Lab8 Presentation of Results </h1>\n",
    "<h2 style=\"text-align: center; color: purple;\" markdown=\"1\">Handout # 8 </h2>\n",
    "\n",
    " \n"
   ]
  },
  {
   "cell_type": "markdown",
   "metadata": {},
   "source": [
    "# Presentation of results: Stargazer Package for tables\n",
    "\n",
    "After seeing the motivating video about how important and cool stargazer is here are a few things you need to know when using stargazer \n",
    "\n",
    "**knitr options when using stargazer**\n",
    "When using the startgazer package you need to use the option results='asis' in the knitr options of your chunk of code. That way you results will print nicely in the html document. \n",
    "\n",
    "**Do not get confused by the output on Rmd**\n",
    "\n",
    "The stargazer package and function allows you to make tables in differnet types, such as, LaTex, text, or html.\n",
    "You need to specify the type in the type argument of the stargazer table, depending on the type you need to change the knirt options to see results looking neat when knitting. \n",
    "\n",
    "\n",
    "\n",
    "In order to see your results before knitting you might want to use type text, but to show your results in html you need to use html type. When you use html and you run your code your results print html code that looks like *crazy* text for you if you do not know html code. Do not panic, it will look beautiful in html, just  wait until you knit it.\n",
    "\n"
   ]
  },
  {
   "cell_type": "markdown",
   "metadata": {},
   "source": [
    "#### The package setup"
   ]
  },
  {
   "cell_type": "code",
   "execution_count": 1,
   "metadata": {},
   "outputs": [],
   "source": [
    "import wooldridge as woo\n",
    "import numpy as np \n",
    "import pandas as pd\n",
    "import seaborn as sns\n",
    "import matplotlib.pyplot as plt\n",
    "from stargazer.stargazer import Stargazer\n",
    "import statsmodels.formula.api as smf"
   ]
  },
  {
   "cell_type": "markdown",
   "metadata": {},
   "source": [
    "## Summary statistics \n",
    "\n",
    "Below different summary statistics tables to described your data.\n",
    "\n",
    "`Ipython` allows to display any pandas table in a nice html format.\n",
    "\n",
    "Then using the `pandas.DataFrame.describe()` we can visualize a nice summary statistics table"
   ]
  },
  {
   "cell_type": "code",
   "execution_count": 2,
   "metadata": {},
   "outputs": [
    {
     "name": "stdout",
     "output_type": "stream",
     "text": [
      "             salary      benefits        enroll    droprate\n",
      "count    408.000000    408.000000    408.000000  408.000000\n",
      "mean   31774.507353   6463.428922   2663.806373    5.066422\n",
      "std     5038.303826   1456.337659   2696.820560    5.485072\n",
      "min    19764.000000      0.000000    212.000000    0.000000\n",
      "25%    28185.500000   5536.500000   1037.500000    1.900000\n",
      "50%    31266.000000   6304.500000   1840.500000    3.700000\n",
      "75%    34499.750000   7228.000000   3084.750000    6.500000\n",
      "max    52812.000000  11618.000000  16793.000000   61.900002\n"
     ]
    }
   ],
   "source": [
    "\n",
    "# load data named <dataset> and save it in an object with the same name\n",
    "meap93set = woo.dataWoo('meap93')[['salary', 'benefits', 'enroll', 'droprate']]\n",
    "print(meap93set.describe())"
   ]
  },
  {
   "cell_type": "markdown",
   "metadata": {},
   "source": [
    "If you would like to have a latex representation of your table of summary statistics, you can use the `pandas` method `DataFrame.to_latex`."
   ]
  },
  {
   "cell_type": "code",
   "execution_count": 3,
   "metadata": {},
   "outputs": [
    {
     "data": {
      "text/plain": [
       "'\\\\begin{tabular}{lrrrr}\\n\\\\toprule\\n & salary & benefits & enroll & droprate \\\\\\\\\\n\\\\midrule\\ncount & 408.000000 & 408.000000 & 408.000000 & 408.000000 \\\\\\\\\\nmean & 31774.507353 & 6463.428922 & 2663.806373 & 5.066422 \\\\\\\\\\nstd & 5038.303826 & 1456.337659 & 2696.820560 & 5.485072 \\\\\\\\\\nmin & 19764.000000 & 0.000000 & 212.000000 & 0.000000 \\\\\\\\\\n25% & 28185.500000 & 5536.500000 & 1037.500000 & 1.900000 \\\\\\\\\\n50% & 31266.000000 & 6304.500000 & 1840.500000 & 3.700000 \\\\\\\\\\n75% & 34499.750000 & 7228.000000 & 3084.750000 & 6.500000 \\\\\\\\\\nmax & 52812.000000 & 11618.000000 & 16793.000000 & 61.900002 \\\\\\\\\\n\\\\bottomrule\\n\\\\end{tabular}\\n'"
      ]
     },
     "execution_count": 3,
     "metadata": {},
     "output_type": "execute_result"
    }
   ],
   "source": [
    "meap93set.describe().to_latex()\n"
   ]
  },
  {
   "cell_type": "markdown",
   "metadata": {},
   "source": [
    "## Regression Output \n",
    "\n",
    "A model of the trade off between salary and pensions for teachers. \n",
    "$$Log(salary)= \\beta_0 + \\beta_1(benefits/salary)+ other factors + u $$\n",
    "The example below load data, generates the new variable `b_s=(benefits/salary)` and then runs three regressions with different sets of `other factors`. The **stargazer command us used in different ways to report the results in a publishable format. See different examples. \n",
    "\n",
    "Try the chunk of code below as it is and adding warning = FALSE to the options"
   ]
  },
  {
   "cell_type": "code",
   "execution_count": 4,
   "metadata": {},
   "outputs": [],
   "source": [
    "data = woo.dataWoo('meap93')\n",
    "data['b_s']=data['benefits']/data['salary']"
   ]
  },
  {
   "cell_type": "code",
   "execution_count": 5,
   "metadata": {},
   "outputs": [],
   "source": [
    "model1= smf.ols(formula='np.log(salary) ~ b_s', data=data).fit()\n",
    "model2= smf.ols(formula='np.log(salary) ~ b_s + np.log(enroll) + np.log(staff)', data=data).fit()\n",
    "model3= smf.ols(formula='np.log(salary) ~ b_s + np.log(enroll) + np.log(staff)+ droprate + gradrate', data=data).fit()\n"
   ]
  },
  {
   "cell_type": "code",
   "execution_count": 6,
   "metadata": {},
   "outputs": [
    {
     "data": {
      "text/html": [
       "<table style=\"text-align:center\"><tr><td colspan=\"4\" style=\"border-bottom: 1px solid black\"></td></tr>\n",
       "<tr><td style=\"text-align:left\"></td><td colspan=\"3\"><em>Dependent variable: np.log(salary)</em></td></tr><tr><td style=\"text-align:left\"></td><tr><td style=\"text-align:left\"></td><td>(1)</td><td>(2)</td><td>(3)</td></tr>\n",
       "<tr><td colspan=\"4\" style=\"border-bottom: 1px solid black\"></td></tr>\n",
       "\n",
       "<tr><td style=\"text-align:left\">Intercept</td><td>10.523<sup>***</sup></td><td>10.844<sup>***</sup></td><td>10.738<sup>***</sup></td></tr>\n",
       "<tr><td style=\"text-align:left\"></td><td>(0.042)</td><td>(0.252)</td><td>(0.258)</td></tr>\n",
       "<tr><td style=\"text-align:left\">b_s</td><td>-0.825<sup>***</sup></td><td>-0.605<sup>***</sup></td><td>-0.589<sup>***</sup></td></tr>\n",
       "<tr><td style=\"text-align:left\"></td><td>(0.200)</td><td>(0.165)</td><td>(0.165)</td></tr>\n",
       "<tr><td style=\"text-align:left\">droprate</td><td></td><td></td><td>-0.000<sup></sup></td></tr>\n",
       "<tr><td style=\"text-align:left\"></td><td></td><td></td><td>(0.002)</td></tr>\n",
       "<tr><td style=\"text-align:left\">gradrate</td><td></td><td></td><td>0.001<sup></sup></td></tr>\n",
       "<tr><td style=\"text-align:left\"></td><td></td><td></td><td>(0.001)</td></tr>\n",
       "<tr><td style=\"text-align:left\">np.log(enroll)</td><td></td><td>0.087<sup>***</sup></td><td>0.088<sup>***</sup></td></tr>\n",
       "<tr><td style=\"text-align:left\"></td><td></td><td>(0.007)</td><td>(0.007)</td></tr>\n",
       "<tr><td style=\"text-align:left\">np.log(staff)</td><td></td><td>-0.222<sup>***</sup></td><td>-0.218<sup>***</sup></td></tr>\n",
       "<tr><td style=\"text-align:left\"></td><td></td><td>(0.050)</td><td>(0.050)</td></tr>\n",
       "\n",
       "<td colspan=\"4\" style=\"border-bottom: 1px solid black\"></td></tr>\n",
       "<tr><td style=\"text-align: left\">Observations</td><td>408</td><td>408</td><td>408</td></tr><tr><td style=\"text-align: left\">R<sup>2</sup></td><td>0.040</td><td>0.353</td><td>0.361</td></tr><tr><td style=\"text-align: left\">Adjusted R<sup>2</sup></td><td>0.038</td><td>0.348</td><td>0.353</td></tr><tr><td style=\"text-align: left\">Residual Std. Error</td><td>0.151 (df=406)</td><td>0.125 (df=404)</td><td>0.124 (df=402)</td></tr><tr><td style=\"text-align: left\">F Statistic</td><td>17.050<sup>***</sup> (df=1; 406)</td><td>73.386<sup>***</sup> (df=3; 404)</td><td>45.428<sup>***</sup> (df=5; 402)</td></tr>\n",
       "<tr><td colspan=\"4\" style=\"border-bottom: 1px solid black\"></td></tr><tr><td style=\"text-align: left\">Note:</td><td colspan=\"3\" style=\"text-align: right\"><sup>*</sup>p&lt;0.1; <sup>**</sup>p&lt;0.05; <sup>***</sup>p&lt;0.01</td></tr></table>"
      ],
      "text/plain": [
       "<IPython.core.display.HTML object>"
      ]
     },
     "execution_count": 6,
     "metadata": {},
     "output_type": "execute_result"
    }
   ],
   "source": [
    "st=Stargazer([model1, model2, model3])\n",
    "from IPython.core.display import HTML\n",
    "HTML(st.render_html())\n",
    "\n",
    "\n"
   ]
  },
  {
   "cell_type": "code",
   "execution_count": 7,
   "metadata": {},
   "outputs": [
    {
     "data": {
      "text/plain": [
       "'\\\\begin{table}[!htbp] \\\\centering\\n\\\\begin{tabular}{@{\\\\extracolsep{5pt}}lccc}\\n\\\\\\\\[-1.8ex]\\\\hline\\n\\\\hline \\\\\\\\[-1.8ex]\\n& \\\\multicolumn{3}{c}{\\\\textit{Dependent variable: np.log(salary)}} \\\\\\n\\\\cr \\\\cline{2-4}\\n\\\\\\\\[-1.8ex] & (1) & (2) & (3) \\\\\\\\\\n\\\\hline \\\\\\\\[-1.8ex]\\n Intercept & 10.523$^{***}$ & 10.844$^{***}$ & 10.738$^{***}$ \\\\\\\\\\n& (0.042) & (0.252) & (0.258) \\\\\\\\\\n b_s & -0.825$^{***}$ & -0.605$^{***}$ & -0.589$^{***}$ \\\\\\\\\\n& (0.200) & (0.165) & (0.165) \\\\\\\\\\n droprate & & & -0.000$^{}$ \\\\\\\\\\n& & & (0.002) \\\\\\\\\\n gradrate & & & 0.001$^{}$ \\\\\\\\\\n& & & (0.001) \\\\\\\\\\n np.log(enroll) & & 0.087$^{***}$ & 0.088$^{***}$ \\\\\\\\\\n& & (0.007) & (0.007) \\\\\\\\\\n np.log(staff) & & -0.222$^{***}$ & -0.218$^{***}$ \\\\\\\\\\n& & (0.050) & (0.050) \\\\\\\\\\n\\\\hline \\\\\\\\[-1.8ex]\\n Observations & 408 & 408 & 408 \\\\\\\\\\n $R^2$ & 0.040 & 0.353 & 0.361 \\\\\\\\\\n Adjusted $R^2$ & 0.038 & 0.348 & 0.353 \\\\\\\\\\n Residual Std. Error & 0.151 (df=406) & 0.125 (df=404) & 0.124 (df=402) \\\\\\\\\\n F Statistic & 17.050$^{***}$ (df=1; 406) & 73.386$^{***}$ (df=3; 404) & 45.428$^{***}$ (df=5; 402) \\\\\\\\\\n\\\\hline\\n\\\\hline \\\\\\\\[-1.8ex]\\n\\\\textit{Note:} & \\\\multicolumn{3}{r}{$^{*}$p$<$0.1; $^{**}$p$<$0.05; $^{***}$p$<$0.01} \\\\\\\\\\n\\\\end{tabular}\\n\\\\end{table}'"
      ]
     },
     "execution_count": 7,
     "metadata": {},
     "output_type": "execute_result"
    }
   ],
   "source": [
    "st.render_latex()"
   ]
  },
  {
   "cell_type": "code",
   "execution_count": 8,
   "metadata": {},
   "outputs": [
    {
     "data": {
      "text/html": [
       "These are awesome results<br><table style=\"text-align:center\"><tr><td colspan=\"4\" style=\"border-bottom: 1px solid black\"></td></tr>\n",
       "<tr><td style=\"text-align:left\"></td><td colspan=\"3\"><em>Dependent variable: np.log(salary)</em></td></tr><tr><td style=\"text-align:left\"></td><tr><td style=\"text-align:left\"></td><td>(1)</td><td>(2)</td><td>(3)</td></tr>\n",
       "<tr><td colspan=\"4\" style=\"border-bottom: 1px solid black\"></td></tr>\n",
       "\n",
       "<tr><td style=\"text-align:left\">Intercept</td><td>10.523<sup>***</sup></td><td>10.844<sup>***</sup></td><td>10.738<sup>***</sup></td></tr>\n",
       "<tr><td style=\"text-align:left\"></td><td>(0.042)</td><td>(0.252)</td><td>(0.258)</td></tr>\n",
       "<tr><td style=\"text-align:left\">b_s</td><td>-0.825<sup>***</sup></td><td>-0.605<sup>***</sup></td><td>-0.589<sup>***</sup></td></tr>\n",
       "<tr><td style=\"text-align:left\"></td><td>(0.200)</td><td>(0.165)</td><td>(0.165)</td></tr>\n",
       "<tr><td style=\"text-align:left\">droprate</td><td></td><td></td><td>-0.000<sup></sup></td></tr>\n",
       "<tr><td style=\"text-align:left\"></td><td></td><td></td><td>(0.002)</td></tr>\n",
       "<tr><td style=\"text-align:left\">gradrate</td><td></td><td></td><td>0.001<sup></sup></td></tr>\n",
       "<tr><td style=\"text-align:left\"></td><td></td><td></td><td>(0.001)</td></tr>\n",
       "<tr><td style=\"text-align:left\">np.log(enroll)</td><td></td><td>0.087<sup>***</sup></td><td>0.088<sup>***</sup></td></tr>\n",
       "<tr><td style=\"text-align:left\"></td><td></td><td>(0.007)</td><td>(0.007)</td></tr>\n",
       "<tr><td style=\"text-align:left\">np.log(staff)</td><td></td><td>-0.222<sup>***</sup></td><td>-0.218<sup>***</sup></td></tr>\n",
       "<tr><td style=\"text-align:left\"></td><td></td><td>(0.050)</td><td>(0.050)</td></tr>\n",
       "\n",
       "<td colspan=\"4\" style=\"border-bottom: 1px solid black\"></td></tr>\n",
       "<tr><td style=\"text-align: left\">Observations</td><td>408</td><td>408</td><td>408</td></tr><tr><td style=\"text-align: left\">R<sup>2</sup></td><td>0.040</td><td>0.353</td><td>0.361</td></tr><tr><td style=\"text-align: left\">Adjusted R<sup>2</sup></td><td>0.038</td><td>0.348</td><td>0.353</td></tr><tr><td style=\"text-align: left\">Residual Std. Error</td><td>0.151 (df=406)</td><td>0.125 (df=404)</td><td>0.124 (df=402)</td></tr><tr><td style=\"text-align: left\">F Statistic</td><td>17.050<sup>***</sup> (df=1; 406)</td><td>73.386<sup>***</sup> (df=3; 404)</td><td>45.428<sup>***</sup> (df=5; 402)</td></tr>\n",
       "<tr><td colspan=\"4\" style=\"border-bottom: 1px solid black\"></td></tr><tr><td style=\"text-align: left\">Note:</td><td colspan=\"3\" style=\"text-align: right\"><sup>*</sup>p&lt;0.1; <sup>**</sup>p&lt;0.05; <sup>***</sup>p&lt;0.01</td></tr></table>"
      ],
      "text/plain": [
       "<IPython.core.display.HTML object>"
      ]
     },
     "execution_count": 8,
     "metadata": {},
     "output_type": "execute_result"
    }
   ],
   "source": [
    "st.title(\"These are awesome results\")\n",
    "HTML(st.render_html())\n"
   ]
  },
  {
   "cell_type": "code",
   "execution_count": 9,
   "metadata": {},
   "outputs": [
    {
     "data": {
      "text/html": [
       "These are awesome results<br><table style=\"text-align:center\"><tr><td colspan=\"4\" style=\"border-bottom: 1px solid black\"></td></tr>\n",
       "<tr><td style=\"text-align:left\"></td><td colspan=\"3\"><em>Dependent variable: np.log(salary)</em></td></tr><tr><td style=\"text-align:left\"></td><tr><td></td><td colspan=\"1\">Model 1</td><td colspan=\"1\">Model 2</td><td colspan=\"1\">Model 3</td></tr><tr><td style=\"text-align:left\"></td><td>(1)</td><td>(2)</td><td>(3)</td></tr>\n",
       "<tr><td colspan=\"4\" style=\"border-bottom: 1px solid black\"></td></tr>\n",
       "\n",
       "<tr><td style=\"text-align:left\">Intercept</td><td>10.523<sup>***</sup></td><td>10.844<sup>***</sup></td><td>10.738<sup>***</sup></td></tr>\n",
       "<tr><td style=\"text-align:left\"></td><td>(0.042)</td><td>(0.252)</td><td>(0.258)</td></tr>\n",
       "<tr><td style=\"text-align:left\">b_s</td><td>-0.825<sup>***</sup></td><td>-0.605<sup>***</sup></td><td>-0.589<sup>***</sup></td></tr>\n",
       "<tr><td style=\"text-align:left\"></td><td>(0.200)</td><td>(0.165)</td><td>(0.165)</td></tr>\n",
       "<tr><td style=\"text-align:left\">droprate</td><td></td><td></td><td>-0.000<sup></sup></td></tr>\n",
       "<tr><td style=\"text-align:left\"></td><td></td><td></td><td>(0.002)</td></tr>\n",
       "<tr><td style=\"text-align:left\">gradrate</td><td></td><td></td><td>0.001<sup></sup></td></tr>\n",
       "<tr><td style=\"text-align:left\"></td><td></td><td></td><td>(0.001)</td></tr>\n",
       "<tr><td style=\"text-align:left\">np.log(enroll)</td><td></td><td>0.087<sup>***</sup></td><td>0.088<sup>***</sup></td></tr>\n",
       "<tr><td style=\"text-align:left\"></td><td></td><td>(0.007)</td><td>(0.007)</td></tr>\n",
       "<tr><td style=\"text-align:left\">np.log(staff)</td><td></td><td>-0.222<sup>***</sup></td><td>-0.218<sup>***</sup></td></tr>\n",
       "<tr><td style=\"text-align:left\"></td><td></td><td>(0.050)</td><td>(0.050)</td></tr>\n",
       "\n",
       "<td colspan=\"4\" style=\"border-bottom: 1px solid black\"></td></tr>\n",
       "<tr><td style=\"text-align: left\">Observations</td><td>408</td><td>408</td><td>408</td></tr><tr><td style=\"text-align: left\">R<sup>2</sup></td><td>0.040</td><td>0.353</td><td>0.361</td></tr><tr><td style=\"text-align: left\">Adjusted R<sup>2</sup></td><td>0.038</td><td>0.348</td><td>0.353</td></tr><tr><td style=\"text-align: left\">Residual Std. Error</td><td>0.151 (df=406)</td><td>0.125 (df=404)</td><td>0.124 (df=402)</td></tr><tr><td style=\"text-align: left\">F Statistic</td><td>17.050<sup>***</sup> (df=1; 406)</td><td>73.386<sup>***</sup> (df=3; 404)</td><td>45.428<sup>***</sup> (df=5; 402)</td></tr>\n",
       "<tr><td colspan=\"4\" style=\"border-bottom: 1px solid black\"></td></tr><tr><td style=\"text-align: left\">Note:</td><td colspan=\"3\" style=\"text-align: right\"><sup>*</sup>p&lt;0.1; <sup>**</sup>p&lt;0.05; <sup>***</sup>p&lt;0.01</td></tr></table>"
      ],
      "text/plain": [
       "<IPython.core.display.HTML object>"
      ]
     },
     "execution_count": 9,
     "metadata": {},
     "output_type": "execute_result"
    }
   ],
   "source": [
    "st.custom_columns(['Model 1', 'Model 2', 'Model 3'] ,[1,1,1])\n",
    "HTML(st.render_html())"
   ]
  },
  {
   "cell_type": "code",
   "execution_count": 10,
   "metadata": {},
   "outputs": [
    {
     "data": {
      "text/html": [
       "These are awesome results<br><table style=\"text-align:center\"><tr><td colspan=\"4\" style=\"border-bottom: 1px solid black\"></td></tr>\n",
       "<tr><td style=\"text-align:left\"></td><td colspan=\"3\"><em>Dependent variable: np.log(salary)</em></td></tr><tr><td style=\"text-align:left\"></td><tr><td></td><td colspan=\"1\">Model 1</td><td colspan=\"1\">Model 2</td><td colspan=\"1\">Model 3</td></tr><tr><td style=\"text-align:left\"></td><td>(1)</td><td>(2)</td><td>(3)</td></tr>\n",
       "<tr><td colspan=\"4\" style=\"border-bottom: 1px solid black\"></td></tr>\n",
       "\n",
       "<tr><td style=\"text-align:left\">Intercept</td><td>10.523<sup>***</sup></td><td>10.844<sup>***</sup></td><td>10.738<sup>***</sup></td></tr>\n",
       "<tr><td style=\"text-align:left\"></td><td>(0.042)</td><td>(0.252)</td><td>(0.258)</td></tr>\n",
       "<tr><td style=\"text-align:left\">Benefits Salary Ratio</td><td>-0.825<sup>***</sup></td><td>-0.605<sup>***</sup></td><td>-0.589<sup>***</sup></td></tr>\n",
       "<tr><td style=\"text-align:left\"></td><td>(0.200)</td><td>(0.165)</td><td>(0.165)</td></tr>\n",
       "<tr><td style=\"text-align:left\">droprate</td><td></td><td></td><td>-0.000<sup></sup></td></tr>\n",
       "<tr><td style=\"text-align:left\"></td><td></td><td></td><td>(0.002)</td></tr>\n",
       "<tr><td style=\"text-align:left\">gradrate</td><td></td><td></td><td>0.001<sup></sup></td></tr>\n",
       "<tr><td style=\"text-align:left\"></td><td></td><td></td><td>(0.001)</td></tr>\n",
       "<tr><td style=\"text-align:left\">np.log(enroll)</td><td></td><td>0.087<sup>***</sup></td><td>0.088<sup>***</sup></td></tr>\n",
       "<tr><td style=\"text-align:left\"></td><td></td><td>(0.007)</td><td>(0.007)</td></tr>\n",
       "<tr><td style=\"text-align:left\">np.log(staff)</td><td></td><td>-0.222<sup>***</sup></td><td>-0.218<sup>***</sup></td></tr>\n",
       "<tr><td style=\"text-align:left\"></td><td></td><td>(0.050)</td><td>(0.050)</td></tr>\n",
       "\n",
       "<td colspan=\"4\" style=\"border-bottom: 1px solid black\"></td></tr>\n",
       "<tr><td style=\"text-align: left\">Observations</td><td>408</td><td>408</td><td>408</td></tr><tr><td style=\"text-align: left\">R<sup>2</sup></td><td>0.040</td><td>0.353</td><td>0.361</td></tr><tr><td style=\"text-align: left\">Adjusted R<sup>2</sup></td><td>0.038</td><td>0.348</td><td>0.353</td></tr><tr><td style=\"text-align: left\">Residual Std. Error</td><td>0.151 (df=406)</td><td>0.125 (df=404)</td><td>0.124 (df=402)</td></tr><tr><td style=\"text-align: left\">F Statistic</td><td>17.050<sup>***</sup> (df=1; 406)</td><td>73.386<sup>***</sup> (df=3; 404)</td><td>45.428<sup>***</sup> (df=5; 402)</td></tr>\n",
       "<tr><td colspan=\"4\" style=\"border-bottom: 1px solid black\"></td></tr><tr><td style=\"text-align: left\">Note:</td><td colspan=\"3\" style=\"text-align: right\"><sup>*</sup>p&lt;0.1; <sup>**</sup>p&lt;0.05; <sup>***</sup>p&lt;0.01</td></tr></table>"
      ],
      "text/plain": [
       "<IPython.core.display.HTML object>"
      ]
     },
     "execution_count": 10,
     "metadata": {},
     "output_type": "execute_result"
    }
   ],
   "source": [
    "st.rename_covariates({\"b_s\": \"Benefits Salary Ratio\"})\n",
    "HTML(st.render_html())"
   ]
  },
  {
   "cell_type": "code",
   "execution_count": 11,
   "metadata": {},
   "outputs": [
    {
     "data": {
      "text/html": [
       "These are awesome results<br><table style=\"text-align:center\"><tr><td colspan=\"4\" style=\"border-bottom: 1px solid black\"></td></tr>\n",
       "<tr><td style=\"text-align:left\"></td><td colspan=\"3\"><em>Dependent variable: np.log(salary)</em></td></tr><tr><td style=\"text-align:left\"></td><tr><td></td><td colspan=\"1\">Model 1</td><td colspan=\"1\">Model 2</td><td colspan=\"1\">Model 3</td></tr><tr><td style=\"text-align:left\"></td><td>(1)</td><td>(2)</td><td>(3)</td></tr>\n",
       "<tr><td colspan=\"4\" style=\"border-bottom: 1px solid black\"></td></tr>\n",
       "\n",
       "<tr><td style=\"text-align:left\">Intercept</td><td>10.523<sup>***</sup></td><td>10.844<sup>***</sup></td><td>10.738<sup>***</sup></td></tr>\n",
       "<tr><td style=\"text-align:left\"></td><td>(0.042)</td><td>(0.252)</td><td>(0.258)</td></tr>\n",
       "<tr><td style=\"text-align:left\">Benefits Salary Ratio</td><td>-0.825<sup>***</sup></td><td>-0.605<sup>***</sup></td><td>-0.589<sup>***</sup></td></tr>\n",
       "<tr><td style=\"text-align:left\"></td><td>(0.200)</td><td>(0.165)</td><td>(0.165)</td></tr>\n",
       "<tr><td style=\"text-align:left\">droprate</td><td></td><td></td><td>-0.000<sup></sup></td></tr>\n",
       "<tr><td style=\"text-align:left\"></td><td></td><td></td><td>(0.002)</td></tr>\n",
       "<tr><td style=\"text-align:left\">gradrate</td><td></td><td></td><td>0.001<sup></sup></td></tr>\n",
       "<tr><td style=\"text-align:left\"></td><td></td><td></td><td>(0.001)</td></tr>\n",
       "<tr><td style=\"text-align:left\">np.log(enroll)</td><td></td><td>0.087<sup>***</sup></td><td>0.088<sup>***</sup></td></tr>\n",
       "<tr><td style=\"text-align:left\"></td><td></td><td>(0.007)</td><td>(0.007)</td></tr>\n",
       "<tr><td style=\"text-align:left\">np.log(staff)</td><td></td><td>-0.222<sup>***</sup></td><td>-0.218<sup>***</sup></td></tr>\n",
       "<tr><td style=\"text-align:left\"></td><td></td><td>(0.050)</td><td>(0.050)</td></tr>\n",
       "\n",
       "<td colspan=\"4\" style=\"border-bottom: 1px solid black\"></td></tr>\n",
       "<tr><td style=\"text-align: left\">Observations</td><td>408</td><td>408</td><td>408</td></tr><tr><td style=\"text-align: left\">R<sup>2</sup></td><td>0.040</td><td>0.353</td><td>0.361</td></tr><tr><td style=\"text-align: left\">Adjusted R<sup>2</sup></td><td>0.038</td><td>0.348</td><td>0.353</td></tr><tr><td style=\"text-align: left\">Residual Std. Error</td><td>0.151 (df=406)</td><td>0.125 (df=404)</td><td>0.124 (df=402)</td></tr><tr><td style=\"text-align: left\">F Statistic</td><td>17.050<sup>***</sup> (df=1; 406)</td><td>73.386<sup>***</sup> (df=3; 404)</td><td>45.428<sup>***</sup> (df=5; 402)</td></tr>\n",
       "<tr><td colspan=\"4\" style=\"border-bottom: 1px solid black\"></td></tr><tr><td style=\"text-align: left\">Some note I would like to add\n",
       "</td><td colspan=\"3\" style=\"text-align: right\"><sup>*</sup>p&lt;0.1; <sup>**</sup>p&lt;0.05; <sup>***</sup>p&lt;0.01</td></tr></table>"
      ],
      "text/plain": [
       "<IPython.core.display.HTML object>"
      ]
     },
     "execution_count": 11,
     "metadata": {},
     "output_type": "execute_result"
    }
   ],
   "source": [
    "st.custom_note_label(\"Some note I would like to add\\n\")\n",
    "HTML(st.render_html())"
   ]
  },
  {
   "cell_type": "markdown",
   "metadata": {},
   "source": [
    "Other options to explore with this command include:\n",
    "* `show_header`: display or hide model header data\n",
    "* `show_model_numbers`: display or hide model numbers\n",
    "* `custom_columns`: custom model names and model groupings\n",
    "* `significance_levels`: change statistical significance thresholds\n",
    "* `significant_digits`: change number of significant digits\n",
    "* `show_confidence_intervals`: display confidence intervals instead of variance\n",
    "* `dependent_variable_name`: rename dependent variable\n",
    "* `rename_covariates`: rename covariates\n",
    "* `covariate_order`: reorder covariates\n",
    "* `reset_covariate_order`: reset covariate order to original ordering\n",
    "* `show_degrees_of_freedom`: display or hide degrees of freedom\n",
    "* `custom_note_label`: label notes section at bottom of table\n",
    "* `add_custom_notes`: add custom notes to section at bottom of the table\n",
    "* `append_notes`: display or hide statistical significance thresholds"
   ]
  },
  {
   "cell_type": "markdown",
   "metadata": {},
   "source": [
    "# In class exercise \n",
    "\n",
    "1. Create a new notebook document\n",
    "\n",
    "2. Use the data set `attitude`. The csv file is in the module.  \n",
    "3. Using the `stargazer` package (Remember you need to have this package installed)<br>\n",
    "   3.1.  Create a summary statistics table of this dataset<br>\n",
    "   3.2 Run the following two regressions <br>\n",
    "   $$ Rating = \\beta_0 + \\beta_1*Complaints + \\beta_2*Privileges + \\beta_3*Learning + \\beta_4*Raises +          \\beta_5*Critical$$\n",
    "      \n",
    "      <br>\n",
    "      \n",
    "   $$ \n",
    "   Rating = \\beta_0 + \\beta_1 \\cdot Complaints + \\beta_2 \\cdot Privileges + \\beta_3 \\cdot Learning \n",
    "   $$ \n",
    "      \n",
    "      and save the results in two objects named linear.1 and linear.2 \n",
    "\n",
    "   3.3 Make a table with this results combined, change the name of the table to make them look better. Give names to          the models and give a label to the dpendent variable in the table as seen in the class example. \n",
    "\n",
    "4. Download your document into html and see how it looks. \n"
   ]
  },
  {
   "cell_type": "code",
   "execution_count": 12,
   "metadata": {},
   "outputs": [
    {
     "ename": "FileNotFoundError",
     "evalue": "[Errno 2] No such file or directory: 'attitude.csv'",
     "output_type": "error",
     "traceback": [
      "\u001b[1;31m---------------------------------------------------------------------------\u001b[0m",
      "\u001b[1;31mFileNotFoundError\u001b[0m                         Traceback (most recent call last)",
      "Cell \u001b[1;32mIn[12], line 6\u001b[0m\n\u001b[0;32m      3\u001b[0m \u001b[38;5;28;01mfrom\u001b[39;00m \u001b[38;5;21;01mstargazer\u001b[39;00m\u001b[38;5;21;01m.\u001b[39;00m\u001b[38;5;21;01mstargazer\u001b[39;00m \u001b[38;5;28;01mimport\u001b[39;00m Stargazer\n\u001b[0;32m      5\u001b[0m \u001b[38;5;66;03m#use other options provided in the list above there is the need to rewrite this whole notebook\u001b[39;00m\n\u001b[1;32m----> 6\u001b[0m df \u001b[38;5;241m=\u001b[39m pd\u001b[38;5;241m.\u001b[39mread_csv(\u001b[38;5;124m\"\u001b[39m\u001b[38;5;124mattitude.csv\u001b[39m\u001b[38;5;124m\"\u001b[39m)\n\u001b[0;32m      7\u001b[0m df\u001b[38;5;241m.\u001b[39mdescribe()\u001b[38;5;241m.\u001b[39mtranspose()\n",
      "File \u001b[1;32md:\\anaconda\\Lib\\site-packages\\pandas\\io\\parsers\\readers.py:1026\u001b[0m, in \u001b[0;36mread_csv\u001b[1;34m(filepath_or_buffer, sep, delimiter, header, names, index_col, usecols, dtype, engine, converters, true_values, false_values, skipinitialspace, skiprows, skipfooter, nrows, na_values, keep_default_na, na_filter, verbose, skip_blank_lines, parse_dates, infer_datetime_format, keep_date_col, date_parser, date_format, dayfirst, cache_dates, iterator, chunksize, compression, thousands, decimal, lineterminator, quotechar, quoting, doublequote, escapechar, comment, encoding, encoding_errors, dialect, on_bad_lines, delim_whitespace, low_memory, memory_map, float_precision, storage_options, dtype_backend)\u001b[0m\n\u001b[0;32m   1013\u001b[0m kwds_defaults \u001b[38;5;241m=\u001b[39m _refine_defaults_read(\n\u001b[0;32m   1014\u001b[0m     dialect,\n\u001b[0;32m   1015\u001b[0m     delimiter,\n\u001b[1;32m   (...)\u001b[0m\n\u001b[0;32m   1022\u001b[0m     dtype_backend\u001b[38;5;241m=\u001b[39mdtype_backend,\n\u001b[0;32m   1023\u001b[0m )\n\u001b[0;32m   1024\u001b[0m kwds\u001b[38;5;241m.\u001b[39mupdate(kwds_defaults)\n\u001b[1;32m-> 1026\u001b[0m \u001b[38;5;28;01mreturn\u001b[39;00m _read(filepath_or_buffer, kwds)\n",
      "File \u001b[1;32md:\\anaconda\\Lib\\site-packages\\pandas\\io\\parsers\\readers.py:620\u001b[0m, in \u001b[0;36m_read\u001b[1;34m(filepath_or_buffer, kwds)\u001b[0m\n\u001b[0;32m    617\u001b[0m _validate_names(kwds\u001b[38;5;241m.\u001b[39mget(\u001b[38;5;124m\"\u001b[39m\u001b[38;5;124mnames\u001b[39m\u001b[38;5;124m\"\u001b[39m, \u001b[38;5;28;01mNone\u001b[39;00m))\n\u001b[0;32m    619\u001b[0m \u001b[38;5;66;03m# Create the parser.\u001b[39;00m\n\u001b[1;32m--> 620\u001b[0m parser \u001b[38;5;241m=\u001b[39m TextFileReader(filepath_or_buffer, \u001b[38;5;241m*\u001b[39m\u001b[38;5;241m*\u001b[39mkwds)\n\u001b[0;32m    622\u001b[0m \u001b[38;5;28;01mif\u001b[39;00m chunksize \u001b[38;5;129;01mor\u001b[39;00m iterator:\n\u001b[0;32m    623\u001b[0m     \u001b[38;5;28;01mreturn\u001b[39;00m parser\n",
      "File \u001b[1;32md:\\anaconda\\Lib\\site-packages\\pandas\\io\\parsers\\readers.py:1620\u001b[0m, in \u001b[0;36mTextFileReader.__init__\u001b[1;34m(self, f, engine, **kwds)\u001b[0m\n\u001b[0;32m   1617\u001b[0m     \u001b[38;5;28mself\u001b[39m\u001b[38;5;241m.\u001b[39moptions[\u001b[38;5;124m\"\u001b[39m\u001b[38;5;124mhas_index_names\u001b[39m\u001b[38;5;124m\"\u001b[39m] \u001b[38;5;241m=\u001b[39m kwds[\u001b[38;5;124m\"\u001b[39m\u001b[38;5;124mhas_index_names\u001b[39m\u001b[38;5;124m\"\u001b[39m]\n\u001b[0;32m   1619\u001b[0m \u001b[38;5;28mself\u001b[39m\u001b[38;5;241m.\u001b[39mhandles: IOHandles \u001b[38;5;241m|\u001b[39m \u001b[38;5;28;01mNone\u001b[39;00m \u001b[38;5;241m=\u001b[39m \u001b[38;5;28;01mNone\u001b[39;00m\n\u001b[1;32m-> 1620\u001b[0m \u001b[38;5;28mself\u001b[39m\u001b[38;5;241m.\u001b[39m_engine \u001b[38;5;241m=\u001b[39m \u001b[38;5;28mself\u001b[39m\u001b[38;5;241m.\u001b[39m_make_engine(f, \u001b[38;5;28mself\u001b[39m\u001b[38;5;241m.\u001b[39mengine)\n",
      "File \u001b[1;32md:\\anaconda\\Lib\\site-packages\\pandas\\io\\parsers\\readers.py:1880\u001b[0m, in \u001b[0;36mTextFileReader._make_engine\u001b[1;34m(self, f, engine)\u001b[0m\n\u001b[0;32m   1878\u001b[0m     \u001b[38;5;28;01mif\u001b[39;00m \u001b[38;5;124m\"\u001b[39m\u001b[38;5;124mb\u001b[39m\u001b[38;5;124m\"\u001b[39m \u001b[38;5;129;01mnot\u001b[39;00m \u001b[38;5;129;01min\u001b[39;00m mode:\n\u001b[0;32m   1879\u001b[0m         mode \u001b[38;5;241m+\u001b[39m\u001b[38;5;241m=\u001b[39m \u001b[38;5;124m\"\u001b[39m\u001b[38;5;124mb\u001b[39m\u001b[38;5;124m\"\u001b[39m\n\u001b[1;32m-> 1880\u001b[0m \u001b[38;5;28mself\u001b[39m\u001b[38;5;241m.\u001b[39mhandles \u001b[38;5;241m=\u001b[39m get_handle(\n\u001b[0;32m   1881\u001b[0m     f,\n\u001b[0;32m   1882\u001b[0m     mode,\n\u001b[0;32m   1883\u001b[0m     encoding\u001b[38;5;241m=\u001b[39m\u001b[38;5;28mself\u001b[39m\u001b[38;5;241m.\u001b[39moptions\u001b[38;5;241m.\u001b[39mget(\u001b[38;5;124m\"\u001b[39m\u001b[38;5;124mencoding\u001b[39m\u001b[38;5;124m\"\u001b[39m, \u001b[38;5;28;01mNone\u001b[39;00m),\n\u001b[0;32m   1884\u001b[0m     compression\u001b[38;5;241m=\u001b[39m\u001b[38;5;28mself\u001b[39m\u001b[38;5;241m.\u001b[39moptions\u001b[38;5;241m.\u001b[39mget(\u001b[38;5;124m\"\u001b[39m\u001b[38;5;124mcompression\u001b[39m\u001b[38;5;124m\"\u001b[39m, \u001b[38;5;28;01mNone\u001b[39;00m),\n\u001b[0;32m   1885\u001b[0m     memory_map\u001b[38;5;241m=\u001b[39m\u001b[38;5;28mself\u001b[39m\u001b[38;5;241m.\u001b[39moptions\u001b[38;5;241m.\u001b[39mget(\u001b[38;5;124m\"\u001b[39m\u001b[38;5;124mmemory_map\u001b[39m\u001b[38;5;124m\"\u001b[39m, \u001b[38;5;28;01mFalse\u001b[39;00m),\n\u001b[0;32m   1886\u001b[0m     is_text\u001b[38;5;241m=\u001b[39mis_text,\n\u001b[0;32m   1887\u001b[0m     errors\u001b[38;5;241m=\u001b[39m\u001b[38;5;28mself\u001b[39m\u001b[38;5;241m.\u001b[39moptions\u001b[38;5;241m.\u001b[39mget(\u001b[38;5;124m\"\u001b[39m\u001b[38;5;124mencoding_errors\u001b[39m\u001b[38;5;124m\"\u001b[39m, \u001b[38;5;124m\"\u001b[39m\u001b[38;5;124mstrict\u001b[39m\u001b[38;5;124m\"\u001b[39m),\n\u001b[0;32m   1888\u001b[0m     storage_options\u001b[38;5;241m=\u001b[39m\u001b[38;5;28mself\u001b[39m\u001b[38;5;241m.\u001b[39moptions\u001b[38;5;241m.\u001b[39mget(\u001b[38;5;124m\"\u001b[39m\u001b[38;5;124mstorage_options\u001b[39m\u001b[38;5;124m\"\u001b[39m, \u001b[38;5;28;01mNone\u001b[39;00m),\n\u001b[0;32m   1889\u001b[0m )\n\u001b[0;32m   1890\u001b[0m \u001b[38;5;28;01massert\u001b[39;00m \u001b[38;5;28mself\u001b[39m\u001b[38;5;241m.\u001b[39mhandles \u001b[38;5;129;01mis\u001b[39;00m \u001b[38;5;129;01mnot\u001b[39;00m \u001b[38;5;28;01mNone\u001b[39;00m\n\u001b[0;32m   1891\u001b[0m f \u001b[38;5;241m=\u001b[39m \u001b[38;5;28mself\u001b[39m\u001b[38;5;241m.\u001b[39mhandles\u001b[38;5;241m.\u001b[39mhandle\n",
      "File \u001b[1;32md:\\anaconda\\Lib\\site-packages\\pandas\\io\\common.py:873\u001b[0m, in \u001b[0;36mget_handle\u001b[1;34m(path_or_buf, mode, encoding, compression, memory_map, is_text, errors, storage_options)\u001b[0m\n\u001b[0;32m    868\u001b[0m \u001b[38;5;28;01melif\u001b[39;00m \u001b[38;5;28misinstance\u001b[39m(handle, \u001b[38;5;28mstr\u001b[39m):\n\u001b[0;32m    869\u001b[0m     \u001b[38;5;66;03m# Check whether the filename is to be opened in binary mode.\u001b[39;00m\n\u001b[0;32m    870\u001b[0m     \u001b[38;5;66;03m# Binary mode does not support 'encoding' and 'newline'.\u001b[39;00m\n\u001b[0;32m    871\u001b[0m     \u001b[38;5;28;01mif\u001b[39;00m ioargs\u001b[38;5;241m.\u001b[39mencoding \u001b[38;5;129;01mand\u001b[39;00m \u001b[38;5;124m\"\u001b[39m\u001b[38;5;124mb\u001b[39m\u001b[38;5;124m\"\u001b[39m \u001b[38;5;129;01mnot\u001b[39;00m \u001b[38;5;129;01min\u001b[39;00m ioargs\u001b[38;5;241m.\u001b[39mmode:\n\u001b[0;32m    872\u001b[0m         \u001b[38;5;66;03m# Encoding\u001b[39;00m\n\u001b[1;32m--> 873\u001b[0m         handle \u001b[38;5;241m=\u001b[39m \u001b[38;5;28mopen\u001b[39m(\n\u001b[0;32m    874\u001b[0m             handle,\n\u001b[0;32m    875\u001b[0m             ioargs\u001b[38;5;241m.\u001b[39mmode,\n\u001b[0;32m    876\u001b[0m             encoding\u001b[38;5;241m=\u001b[39mioargs\u001b[38;5;241m.\u001b[39mencoding,\n\u001b[0;32m    877\u001b[0m             errors\u001b[38;5;241m=\u001b[39merrors,\n\u001b[0;32m    878\u001b[0m             newline\u001b[38;5;241m=\u001b[39m\u001b[38;5;124m\"\u001b[39m\u001b[38;5;124m\"\u001b[39m,\n\u001b[0;32m    879\u001b[0m         )\n\u001b[0;32m    880\u001b[0m     \u001b[38;5;28;01melse\u001b[39;00m:\n\u001b[0;32m    881\u001b[0m         \u001b[38;5;66;03m# Binary mode\u001b[39;00m\n\u001b[0;32m    882\u001b[0m         handle \u001b[38;5;241m=\u001b[39m \u001b[38;5;28mopen\u001b[39m(handle, ioargs\u001b[38;5;241m.\u001b[39mmode)\n",
      "\u001b[1;31mFileNotFoundError\u001b[0m: [Errno 2] No such file or directory: 'attitude.csv'"
     ]
    }
   ],
   "source": [
    "import pandas as pd \n",
    "import statsmodels.formula.api as smf\n",
    "from stargazer.stargazer import Stargazer\n",
    "\n",
    "#use other options provided in the list above there is the need to rewrite this whole notebook\n",
    "df = pd.read_csv(\"attitude.csv\")\n",
    "df.describe().transpose()"
   ]
  },
  {
   "cell_type": "code",
   "execution_count": null,
   "metadata": {},
   "outputs": [
    {
     "data": {
      "text/html": [
       "Attitude Regressions ;)<br><table style=\"text-align:center\"><tr><td colspan=\"3\" style=\"border-bottom: 1px solid black\"></td></tr>\n",
       "<tr><td style=\"text-align:left\"></td><td colspan=\"2\"><em>Dependent variable: rating</em></td></tr><tr><td style=\"text-align:left\"></td><tr><td></td><td colspan=\"1\">Linear 1: Rating = Complaints + Privileges + Learning + Raises + Critical</td><td colspan=\"1\">Linear 2: Rating = Complaints + Privileges + Learning</td></tr><tr><td style=\"text-align:left\"></td><td>(1)</td><td>(2)</td></tr>\n",
       "<tr><td colspan=\"3\" style=\"border-bottom: 1px solid black\"></td></tr>\n",
       "\n",
       "<tr><td style=\"text-align:left\">Intercept</td><td>11.011<sup></sup></td><td>11.258<sup></sup></td></tr>\n",
       "<tr><td style=\"text-align:left\"></td><td>(11.704)</td><td>(7.318)</td></tr>\n",
       "<tr><td style=\"text-align:left\">complaints</td><td>0.692<sup>***</sup></td><td>0.682<sup>***</sup></td></tr>\n",
       "<tr><td style=\"text-align:left\"></td><td>(0.149)</td><td>(0.129)</td></tr>\n",
       "<tr><td style=\"text-align:left\">critical</td><td>0.015<sup></sup></td><td></td></tr>\n",
       "<tr><td style=\"text-align:left\"></td><td>(0.147)</td><td></td></tr>\n",
       "<tr><td style=\"text-align:left\">learning</td><td>0.249<sup></sup></td><td>0.238<sup>*</sup></td></tr>\n",
       "<tr><td style=\"text-align:left\"></td><td>(0.160)</td><td>(0.139)</td></tr>\n",
       "<tr><td style=\"text-align:left\">privileges</td><td>-0.104<sup></sup></td><td>-0.103<sup></sup></td></tr>\n",
       "<tr><td style=\"text-align:left\"></td><td>(0.135)</td><td>(0.129)</td></tr>\n",
       "<tr><td style=\"text-align:left\">raises</td><td>-0.033<sup></sup></td><td></td></tr>\n",
       "<tr><td style=\"text-align:left\"></td><td>(0.202)</td><td></td></tr>\n",
       "\n",
       "<td colspan=\"3\" style=\"border-bottom: 1px solid black\"></td></tr>\n",
       "<tr><td style=\"text-align: left\">Observations</td><td>30</td><td>30</td></tr><tr><td style=\"text-align: left\">R<sup>2</sup></td><td>0.715</td><td>0.715</td></tr><tr><td style=\"text-align: left\">Adjusted R<sup>2</sup></td><td>0.656</td><td>0.682</td></tr><tr><td style=\"text-align: left\">Residual Std. Error</td><td>7.139 (df=24)</td><td>6.863 (df=26)</td></tr><tr><td style=\"text-align: left\">F Statistic</td><td>12.063<sup>***</sup> (df=5; 24)</td><td>21.743<sup>***</sup> (df=3; 26)</td></tr>\n",
       "<tr><td colspan=\"3\" style=\"border-bottom: 1px solid black\"></td></tr><tr><td style=\"text-align: left\">If you are reading this, you are cool!</td><td colspan=\"2\" style=\"text-align: right\"><sup>*</sup>p&lt;0.1; <sup>**</sup>p&lt;0.05; <sup>***</sup>p&lt;0.01</td></tr></table>"
      ],
      "text/plain": [
       "<IPython.core.display.HTML object>"
      ]
     },
     "execution_count": 36,
     "metadata": {},
     "output_type": "execute_result"
    }
   ],
   "source": [
    "# Fit two linear regression models\n",
    "linear_1 = smf.ols('rating ~ complaints + privileges + learning + raises + critical', data=df).fit()\n",
    "linear_2 = smf.ols('rating ~ complaints + privileges + learning', data=df).fit()\n",
    "\n",
    "# Create a table with the results of both models\n",
    "\n",
    "Attitude_RTable = Stargazer([linear_1, linear_2])\n",
    "from IPython.core.display import HTML\n",
    "\n",
    "\n",
    "Attitude_RTable = Stargazer([linear_1, linear_2])\n",
    "Attitude_RTable.title(\"Attitude Regressions ;)\")\n",
    "Attitude_RTable.custom_columns(['Linear 1: Rating = Complaints + Privileges + Learning + Raises + Critical', 'Linear 2: Rating = Complaints + Privileges + Learning'], [1,1])\n",
    "Attitude_RTable.custom_note_label(\"If you are reading this, you are cool!\")\n",
    "HTML(Attitude_RTable.render_html())"
   ]
  },
  {
   "cell_type": "code",
   "execution_count": null,
   "metadata": {},
   "outputs": [],
   "source": [
    "# !jupyter nbconvert --to html nameoffile.ipynb"
   ]
  },
  {
   "cell_type": "markdown",
   "metadata": {},
   "source": [
    "&nbsp;\n",
    "<hr />\n",
    "<p style=\"font-family:palatino; text-align: center;font-size: 15px\">ECON320 Python Programming Laboratory</a></p>\n",
    "<p style=\"font-family:palatino; text-align: center;font-size: 15px\">Professor <em> Paloma Lopez de mesa Moyano</em></a></p>\n",
    "<p style=\"font-family:palatino; text-align: center;font-size: 15px\"><span style=\"color: #6666FF;\"><em>paloma.moyano@emory.edu</em></span></p>\n",
    "\n",
    "<p style=\"font-family:palatino; text-align: center;font-size: 15px\">Department of Economics</a></p>\n",
    "<p style=\"font-family:palatino; text-align: center; color: #012169;font-size: 15px\">Emory University</a></p>\n",
    "\n",
    "&nbsp;"
   ]
  }
 ],
 "metadata": {
  "kernelspec": {
   "display_name": "base",
   "language": "python",
   "name": "python3"
  },
  "language_info": {
   "codemirror_mode": {
    "name": "ipython",
    "version": 3
   },
   "file_extension": ".py",
   "mimetype": "text/x-python",
   "name": "python",
   "nbconvert_exporter": "python",
   "pygments_lexer": "ipython3",
   "version": "3.12.7"
  }
 },
 "nbformat": 4,
 "nbformat_minor": 4
}
