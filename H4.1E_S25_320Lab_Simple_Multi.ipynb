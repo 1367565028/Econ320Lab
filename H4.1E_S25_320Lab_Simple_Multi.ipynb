{
 "cells": [
  {
   "cell_type": "markdown",
   "id": "11015fd8",
   "metadata": {},
   "source": [
    "<style>\n",
    "div.blue{\n",
    "    background-color:#e6f0ff; \n",
    "    border-radius: 5px; \n",
    "    padding: 20px;}\n",
    "</style> \n",
    "\n",
    "<style>\n",
    "div.warn {    \n",
    "    background-color: #fcf2f2;\n",
    "    border-color: #dFb5b4;\n",
    "    border-left: 5px solid #dfb5b4;\n",
    "    padding: 0.5em;\n",
    "    }\n",
    " </style>\n",
    "    \n",
    "<h1 style=\"text-align: center; color: purple;\" markdown=\"1\">Econ 320 Python Lab Simple Regression </h1>\n",
    "<h2 style=\"text-align: center; color: purple;\" markdown=\"1\">Handout 5</h2>\n",
    "\n",
    "## Simple Regression Part 2"
   ]
  },
  {
   "cell_type": "code",
   "execution_count": null,
   "id": "252529ae",
   "metadata": {},
   "outputs": [],
   "source": [
    "# Import your packages \n",
    "import wooldridge as woo\n",
    "import numpy as np \n",
    "import pandas as pd\n",
    "import matplotlib.pyplot as plt\n",
    "import seaborn as sns\n",
    "# Now import the package to run regressions\n",
    "import statsmodels.formula.api as smf"
   ]
  },
  {
   "cell_type": "code",
   "execution_count": null,
   "id": "40ab05a6",
   "metadata": {},
   "outputs": [],
   "source": [
    "# Import data wage1 form Wooldridge\n",
    "wage1 = woo.dataWoo('wage1')\n",
    "# Read CSV file into a DataFrame this data comes from the web \n",
    "# http://672258.youcanlearnit.net/college.csv\n",
    "collegedata = pd.read_csv('http://672258.youcanlearnit.net/college.csv')\n",
    "wage1.info()\n"
   ]
  },
  {
   "cell_type": "markdown",
   "id": "5273efd5",
   "metadata": {},
   "source": [
    "**Run a regression for the wages**\n",
    "\n",
    "Based on the variables in our data set, we will run two models, the first model is a simple regression of education on wages then a multiple regression object adding experience and tenure. \n",
    "\n",
    "model 1 $$ log(wage) = \\beta_0 + \\beta_1*education + u $$\n",
    "model 2 $$ log(wage) = \\beta_0 + \\beta_1*education + \\beta_2*experience + \\beta_3*tenure + u $$"
   ]
  },
  {
   "cell_type": "code",
   "execution_count": null,
   "id": "65bbc017",
   "metadata": {},
   "outputs": [],
   "source": [
    "# Inspect the data with a correlation table \n"
   ]
  },
  {
   "cell_type": "code",
   "execution_count": null,
   "id": "aaf9cae5",
   "metadata": {},
   "outputs": [],
   "source": [
    "# Name create the regression objects from model1 and model2  \n"
   ]
  },
  {
   "cell_type": "code",
   "execution_count": null,
   "id": "2bd0b832",
   "metadata": {},
   "outputs": [],
   "source": [
    "# Use the method .params to obtain the beta parameters, create a table for comparing both models \n",
    "model1.params\n",
    "table = pd.DataFrame({\"Betas1\": ,\n",
    "                       })\n"
   ]
  },
  {
   "cell_type": "code",
   "execution_count": null,
   "id": "526a75e7",
   "metadata": {},
   "outputs": [],
   "source": [
    "# show R^2 for both models \n",
    "\n",
    "print(\"Model 1 R^2:\", round(model1.rsquared,3))\n",
    "print(\"Model 2 R^2:\", round(model2.rsquared,3))"
   ]
  },
  {
   "cell_type": "code",
   "execution_count": null,
   "id": "21fb3005",
   "metadata": {},
   "outputs": [],
   "source": [
    "# Now all this information can be seen on a table using the method .summary(). Do it for model 1 \n"
   ]
  },
  {
   "cell_type": "code",
   "execution_count": null,
   "id": "cca30d03",
   "metadata": {},
   "outputs": [],
   "source": [
    "# Extract the number of observations \n",
    "print(\"Model1 number of observations:\", model1.nobs)"
   ]
  },
  {
   "cell_type": "markdown",
   "id": "cf84be2c-e07e-4eae-81d1-4bdcd00625c4",
   "metadata": {},
   "source": [
    "Now, we know that the mean of $\\hat{y}$ = mean of $y$\n",
    "\n",
    "Let's prove this with our model1, estimating al the values of $\\hat{y}$ and then calculating both means \n"
   ]
  },
  {
   "cell_type": "code",
   "execution_count": null,
   "id": "ac792727",
   "metadata": {},
   "outputs": [],
   "source": [
    "\n",
    "# save the mean of yhat using .fittedvalues\n",
    "wage1[\"lwage_hat1\"]=\n",
    "# pirnt both means \n",
    "print(\"mean of yhat:\", round(,3))\n",
    "print(\"mean of y:\", round(,3))\n",
    "\n",
    "# show the first 10 observations for y \n",
    "wage1[[\"lwage_hat1\", \"lwage\"]].head()"
   ]
  },
  {
   "cell_type": "markdown",
   "id": "0f9a0e5e-6458-47ef-bd97-9293fe7090dd",
   "metadata": {},
   "source": [
    "Now show that the sum of residuals  is equal to zero \n",
    "$$ \\sum{e_i}=0$$\n",
    "\n",
    "Show this for model 1, To make this easier, round(  , 3) and take the absolute value as the sum is $\\approx  0$"
   ]
  },
  {
   "cell_type": "code",
   "execution_count": null,
   "id": "3fc12c2c",
   "metadata": {},
   "outputs": [],
   "source": [
    "# the method .resid allows you to obtain the residuals of the model. \n",
    "round(),3)"
   ]
  },
  {
   "cell_type": "markdown",
   "id": "c388dd6d-56b4-41e2-b6b2-266a6093d8b7",
   "metadata": {},
   "source": [
    "**College Data Exercise**\n",
    "\n",
    "Now take a look at the college data that you are familiar with from Econ 220. Look at the variables and think about a model that you can estimate with this data, start with just a simple regression. What will be your Y and your X and why, run the regression and interpret the results. "
   ]
  },
  {
   "cell_type": "code",
   "execution_count": null,
   "id": "6db28918",
   "metadata": {},
   "outputs": [],
   "source": [
    "collegedata.info()"
   ]
  },
  {
   "cell_type": "markdown",
   "id": "676bb6ef",
   "metadata": {},
   "source": [
    "$$ Y = \\beta_0 + \\beta_1* X + u $$"
   ]
  },
  {
   "cell_type": "code",
   "execution_count": null,
   "id": "2246663f",
   "metadata": {},
   "outputs": [],
   "source": [
    "!jupyter nbconvert --to html H4_F24_320Lab_Simple_Multi.ipynb"
   ]
  }
 ],
 "metadata": {
  "kernelspec": {
   "display_name": "Python 3 (ipykernel)",
   "language": "python",
   "name": "python3"
  },
  "language_info": {
   "codemirror_mode": {
    "name": "ipython",
    "version": 3
   },
   "file_extension": ".py",
   "mimetype": "text/x-python",
   "name": "python",
   "nbconvert_exporter": "python",
   "pygments_lexer": "ipython3",
   "version": "3.12.4"
  }
 },
 "nbformat": 4,
 "nbformat_minor": 5
}
