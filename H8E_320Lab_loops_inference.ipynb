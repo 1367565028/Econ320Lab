{
 "cells": [
  {
   "cell_type": "markdown",
   "metadata": {},
   "source": [
    "<style>\n",
    "div.blue{\n",
    "    background-color:#e6f0ff; \n",
    "    border-radius: 5px; \n",
    "    padding: 20px;}\n",
    "</style> \n",
    "\n",
    "<style>\n",
    "div.warn {    \n",
    "    background-color: #fcf2f2;\n",
    "    border-color: #dFb5b4;\n",
    "    border-left: 5px solid #dfb5b4;\n",
    "    padding: 0.5em;\n",
    "    }\n",
    " </style>\n",
    "    \n",
    "<h1 style=\"text-align: center; color: purple;\" markdown=\"1\">Econ 320 Python: Loops, List Comprehension and Assymptotics </h1>\n",
    "<h2 style=\"text-align: center; color: purple;\" markdown=\"1\">Handout 8 </h2>\n",
    "\n",
    "\n",
    "\n",
    " \n"
   ]
  },
  {
   "cell_type": "markdown",
   "metadata": {},
   "source": [
    "#### Package Setup"
   ]
  },
  {
   "cell_type": "code",
   "execution_count": null,
   "metadata": {},
   "outputs": [],
   "source": [
    "import numpy as np \n",
    "import pandas as pd\n",
    "import statsmodels.formula.api as smf"
   ]
  },
  {
   "cell_type": "markdown",
   "metadata": {},
   "source": [
    "# Data generating process when $x's$ and $u$ are not correlated \n",
    "\n",
    "Our population regression equation is of the from \n",
    "\n",
    "$$ y = 2 - 3x_1 + 4x_2 + u$$\n",
    "Let's take samples of our population and estimate $\\beta's$ many times to prove that $\\beta's$ sampling distribution is centered on the true value.\n",
    "\n",
    "From our samples we will run a regression \n",
    "$$  y = \\hat\\beta_0 + \\hat\\beta_1 x_1 + \\hat\\beta_2x_2 + \\hat{u} $$ \n",
    "When $x's$ and $u$ are not correlated the variance covariance matrix looks like:\n",
    "\n",
    "\\begin{equation*}\n",
    "\\Sigma^2 = \n",
    "\\begin{bmatrix}\n",
    "\\sigma_{x_{1}}^2 & 0 & 0 \\\\\n",
    "0 & \\sigma_{x_{2}}^2 & 0 \\\\\n",
    "0 & 0 & \\sigma_{u}^2\n",
    "\\end{bmatrix} =\n",
    "\\begin{bmatrix}\n",
    "4 & 0 & 0 \\\\\n",
    "0 & 16 & 0 \\\\\n",
    "0 & 0 & 16\n",
    "\\end{bmatrix}\n",
    "\\end{equation*}\n",
    "\n",
    "\n",
    "### Properties of the $\\beta's$\n",
    "\n",
    "Now, using `numpy`, simulate some data where u is not correlated to x, and put it in a `pandas` data frame. This corresponds to the DGP: \n",
    "**Population model**  \n",
    "$$y = 2 -3x_1 + 4x_2 + u$$"
   ]
  },
  {
   "cell_type": "code",
   "execution_count": null,
   "metadata": {},
   "outputs": [],
   "source": [
    "# ste up the seed \n",
    "rng = np.random.RandomState(543)\n",
    "true_beta= [2,-3,4]\n",
    "\n",
    "\n",
    "# 100000 draws from X ~ N(1.8,2)\n",
    "x1= rng.normal(loc= 1.8, scale=2, size=100000)\n",
    "# 100000 draws from X ~ N(5,4)\n",
    "x2= rng.normal(loc= 5, scale=4, size=100000)\n",
    "# 100000 draws from U ~ N(0,4)\n",
    "u= rng.normal(loc= 0, scale=4, size=100000) \n",
    "\n",
    "\n",
    "# Create y dependent or outcome variable from the popularion regression function \n",
    "y = true_beta[0] + true_beta[1]*x1 + true_beta[2]*x2 + u\n",
    "\n",
    "\n",
    "data=pd.DataFrame({'y':y,'x1': x1,'x2':x2,'u':u})\n",
    "data.head()\n"
   ]
  },
  {
   "cell_type": "markdown",
   "metadata": {},
   "source": [
    "Let's do the task that we have to repeat once and think about how to do it many times:\n",
    "* Take a sample, find $\\hat{\\beta}$."
   ]
  },
  {
   "cell_type": "code",
   "execution_count": null,
   "metadata": {},
   "outputs": [],
   "source": [
    "# Draw a random sample of 1,000 observations from the population data.\n",
    "#Estimate the parameters β_0, β_1 and β_2.\n",
    "s = data.sample()\n",
    "reg=\n",
    "reg.summary()\n"
   ]
  },
  {
   "cell_type": "markdown",
   "metadata": {},
   "source": [
    "Repeat the process:  \n",
    "* take many random samples, find $\\hat{\\beta}$, and store them: "
   ]
  },
  {
   "cell_type": "code",
   "execution_count": null,
   "metadata": {},
   "outputs": [],
   "source": [
    "# set the number of iterations \n",
    "samples = 500\n",
    "\n",
    "# set the beta vectors \n",
    "beta0_ar = []\n",
    "beta1_ar = []\n",
    "beta2_ar = []\n",
    "\n",
    "# use a loop for repetitions\n",
    "\n",
    "\n",
    "\n",
    "\n"
   ]
  },
  {
   "cell_type": "markdown",
   "metadata": {},
   "source": [
    "Let's see some summary statistics of the resulting distributions:"
   ]
  },
  {
   "cell_type": "code",
   "execution_count": null,
   "metadata": {},
   "outputs": [],
   "source": [
    "coefs.describe()"
   ]
  },
  {
   "cell_type": "markdown",
   "metadata": {},
   "source": [
    "# Using lists comprehensions\n",
    "\n",
    "The use of lists in python allows us to store all the regression results in a single object.\n",
    "\n",
    "Comprehensions are ways to populate lists applying a function iteratively"
   ]
  },
  {
   "cell_type": "code",
   "execution_count": null,
   "metadata": {
    "scrolled": true
   },
   "outputs": [],
   "source": [
    "# use the iteration object \n",
    "samples = 500\n",
    "\n",
    "# create the function to iterate \n"
   ]
  },
  {
   "cell_type": "markdown",
   "metadata": {},
   "source": [
    "Now lets use `pandas.DataFrame.hist` function to visualize their distributions"
   ]
  },
  {
   "cell_type": "code",
   "execution_count": null,
   "metadata": {},
   "outputs": [],
   "source": [
    "coefs.hist(figsize=(15,8), grid=False, bins=50, layout=(1,3));\n"
   ]
  },
  {
   "cell_type": "code",
   "execution_count": null,
   "metadata": {},
   "outputs": [],
   "source": [
    "# !jupyter nbconvert --to html nameoffile.ipynb"
   ]
  },
  {
   "cell_type": "markdown",
   "metadata": {},
   "source": [
    "&nbsp;\n",
    "<hr />\n",
    "<p style=\"font-family:palatino; text-align: center;font-size: 15px\">ECON320 Python Programming Laboratory</a></p>\n",
    "<p style=\"font-family:palatino; text-align: center;font-size: 15px\">Professor <em> Paloma Lopez de mesa Moyano</em></a></p>\n",
    "<p style=\"font-family:palatino; text-align: center;font-size: 15px\"><span style=\"color: #6666FF;\"><em>paloma.moyano@emory.edu</em></span></p>\n",
    "\n",
    "<p style=\"font-family:palatino; text-align: center;font-size: 15px\">Department of Economics</a></p>\n",
    "<p style=\"font-family:palatino; text-align: center; color: #012169;font-size: 15px\">Emory University</a></p>\n",
    "\n",
    "&nbsp;"
   ]
  }
 ],
 "metadata": {
  "kernelspec": {
   "display_name": "Python 3 (ipykernel)",
   "language": "python",
   "name": "python3"
  },
  "language_info": {
   "codemirror_mode": {
    "name": "ipython",
    "version": 3
   },
   "file_extension": ".py",
   "mimetype": "text/x-python",
   "name": "python",
   "nbconvert_exporter": "python",
   "pygments_lexer": "ipython3",
   "version": "3.12.4"
  }
 },
 "nbformat": 4,
 "nbformat_minor": 4
}
