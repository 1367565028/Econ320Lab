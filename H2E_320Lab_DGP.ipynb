{
 "cells": [
  {
   "cell_type": "markdown",
   "metadata": {},
   "source": [
    "<style>\n",
    "div.blue{\n",
    "    background-color:#e6f0ff; \n",
    "    border-radius: 5px; \n",
    "    padding: 20px;}\n",
    "</style> \n",
    "\n",
    "<style>\n",
    "div.warn {    \n",
    "    background-color: #fcf2f2;\n",
    "    border-color: #dFb5b4;\n",
    "    border-left: 5px solid #dfb5b4;\n",
    "    padding: 0.5em;\n",
    "    }\n",
    " </style>\n",
    "    \n",
    "<h1 style=\"text-align: center; color: purple;\" markdown=\"1\">Econ 320 Lab Python: Data Generating Process </h1>\n",
    "<h2 style=\"text-align: center; color: purple;\" markdown=\"1\">Handout 2 </h2>\n"
   ]
  },
  {
   "cell_type": "markdown",
   "metadata": {
    "tags": []
   },
   "source": [
    "## Data Generating Process\n",
    "\n",
    "We start with the DGP, which we have made up. The first equation is the generic form of the data generating process. The second is the specific DGP that has the parameters we have made up for this example.  \n",
    " <div style=\"background-color:Lavender; color:DarkBlue; padding:30px;\">\n",
    " <b>DGP Equations</b><br><br>\n",
    "$$y = \\beta_0 + \\beta_1* x + u $$\n",
    "\n",
    "$$y = ___ + ____* x + u $$\n",
    "  \n",
    "</div>\n",
    "   \n",
    "<br>"
   ]
  },
  {
   "cell_type": "code",
   "execution_count": null,
   "metadata": {},
   "outputs": [],
   "source": [
    "# import package os to find the path of your working directory\n",
    "\n",
    "import os\n",
    "path = os.getcwd()\n",
    "print(path)\n",
    "print(type(path))\n",
    "\n",
    "# import packages \n",
    "import numpy as np \n",
    "import pandas as pd\n",
    "import matplotlib.pyplot as plt\n",
    "import seaborn as sns\n",
    "\n"
   ]
  },
  {
   "cell_type": "markdown",
   "metadata": {},
   "source": [
    "The following cell shows the code for a **Data Generating Process.**  \n",
    "Where you have an independent random variable $(x)$ that follows a normal distribution  $N(10, 1)$  \n",
    "A disturbance term $(u)$ that also distributed $N(0, 1)$  \n",
    "A dependent random variable $(y)$ that is a linear function of $(x)$ and the disturbance term. "
   ]
  },
  {
   "cell_type": "code",
   "execution_count": null,
   "metadata": {},
   "outputs": [],
   "source": [
    "# Set the seed to generate reproducible results\n",
    "\n",
    "birthday = \"05192004\"\n",
    "# Set NumPy Seed\n",
    "rng = np.random.RandomState(int(birthday))\n",
    "\n",
    "# Generate de population of x and u normally distributed variables \n",
    "# of a million observations and y following the equation below.\n",
    "\n",
    "beta0= \n",
    "beta1= \n",
    "\n",
    "u = \n",
    "y = beta0 + beta1*x + u\n",
    "\n",
    "# Put all this in a dataframe\n",
    "data = {\"x\":x, \"u\":u, \"y\":y}\n",
    "data = pd.DataFrame({\"x\":x, \"u\":u, \"y\":y})\n",
    "print(data.head())\n",
    "print(data.describe())"
   ]
  },
  {
   "cell_type": "markdown",
   "metadata": {},
   "source": [
    "Now let’s take a sample of the population. Given that in real live we do not have access to population data.   "
   ]
  },
  {
   "cell_type": "code",
   "execution_count": null,
   "metadata": {},
   "outputs": [],
   "source": [
    "# to take a random sample of rows from a data frame use the function sample \n",
    "# in the rows dimension of your dataframe as below.\n",
    "sample=\n",
    "print(sample.describe())"
   ]
  },
  {
   "cell_type": "markdown",
   "metadata": {},
   "source": [
    "# Simple Regression in a Graph\n",
    "\n",
    "The graph below ilustrates the idea behind a the estiamtion of a regression equation. As you will see in your theory class when you estimate the regression line you get some estimation errors. Simplifying the intuition you want to minimize those errors-- distances"
   ]
  },
  {
   "cell_type": "code",
   "execution_count": null,
   "metadata": {},
   "outputs": [],
   "source": [
    "\n",
    "# Calculate predicted 'y_hat' values using the linear regression equation y = a + b*x.\n",
    "sample['y_hat'] = _____ + __*sample[\"x\"]\n",
    "\n",
    "# Calculate the error for each data point by subtracting the actual 'y' values from the predicted 'y_hat' values.\n",
    "sample['error'] = sample[\"y_hat\"]- sample[\"y\"]\n",
    "\n",
    "# Create a new figure and axes for plotting.\n",
    "fig, ax = plt.subplots()\n",
    "\n",
    "# Plot the actual data points as a scatter plot using 'x' and 'y' columns from the 'sample' DataFrame.\n",
    "sample.plot(x='x', y='y', kind='scatter', ax=ax)\n",
    "\n",
    "# Plot the fitted regression line using the 'x' and 'y_hat' columns from the 'sample' DataFrame.\n",
    "# The line is plotted as a line plot, and it's colored green.\n",
    "sample.plot(x='x', y='y_hat', kind='line', ax=ax, color='g')\n",
    "\n",
    "# Plot vertical lines connecting each data point to the corresponding points on the fitted regression line.\n",
    "# These lines are drawn in red to visualize the errors between predicted and actual values.\n",
    "plt.vlines(sample['x'], sample['y_hat'], sample['y'], color='r')"
   ]
  },
  {
   "cell_type": "markdown",
   "metadata": {},
   "source": [
    "## The importance of sample size in a regression\n",
    "\n",
    "The set of graphs below show the importance of sample size in a regression the more regression points the more accurate is the regression line (or fitted line). \n",
    "\n",
    "This will also show you how to think about working with loops"
   ]
  },
  {
   "cell_type": "code",
   "execution_count": null,
   "metadata": {},
   "outputs": [],
   "source": [
    "# Let's make a loop that generates a scatter graph with the fitted line \n",
    "n = [] # the size of the sample. \n",
    "\n",
    "\n",
    "    "
   ]
  },
  {
   "cell_type": "code",
   "execution_count": null,
   "metadata": {},
   "outputs": [],
   "source": [
    "sns.set_style('white')\n",
    "\n",
    "sns.regplot(x = \"x\",y = \"y\", data = sample, line_kws={'color':'green'}, ci=None);\n",
    "plt.plot(sample[\"x\"], 9+4*sample[\"x\"], ':r');\n",
    "plt.legend(['Data','Sample regression','Population Regression'],loc='upper left');\n"
   ]
  },
  {
   "cell_type": "markdown",
   "metadata": {},
   "source": [
    "### Review of Numerical Measures from Sample\n",
    "\n",
    "There are various methods (functions) to compute descriptive statistics in Python. Let's review and compare some of them once again:\n",
    "You will need them for next class when we work with the simple regression equations. "
   ]
  },
  {
   "cell_type": "code",
   "execution_count": null,
   "metadata": {},
   "outputs": [],
   "source": [
    "# numeric measures of variables, step by step and automatic measure \n",
    "\n",
    "x_bar = np.mean(datas.x)\n",
    "varx = np.var(datas.x)\n",
    "x_bar1 = datas.x.mean()\n",
    "var_x = datas.x.var()\n",
    "x_bar2 = sum(datas.x)/1000\n",
    "# print mean \n",
    "print(\"The sample mean 1 is {:.5f}\".format(x_bar))\n",
    "print(\"The sample mean 2 is {:.5f}\".format(x_bar1))\n",
    "print(\"The sample mean 3 is {:.5f}\".format(x_bar2))\n",
    "\n",
    "# print variance\n",
    "\n",
    "\n",
    "print(\"The sample variance 1 is {:.5f}\".format(varx))\n",
    "print(\"The sample variance 2 is {:.5f}\".format(var_x))\n",
    "\n"
   ]
  },
  {
   "cell_type": "markdown",
   "metadata": {},
   "source": [
    "\n",
    "&nbsp;\n",
    "<hr />\n",
    "<p style=\"font-family:palatino; text-align: center;font-size: 15px\">ECON320 Python Programming Laboratory</a></p>\n",
    "<p style=\"font-family:palatino; text-align: center;font-size: 15px\">Professor <em> Paloma Lopez de mesa Moyano</em></a></p>\n",
    "<p style=\"font-family:palatino; text-align: center;font-size: 15px\"><span style=\"color: #6666FF;\"><em>paloma.moyano@emory.edu</em></span></p>\n",
    "\n",
    "<p style=\"font-family:palatino; text-align: center;font-size: 15px\">Department of Economics</a></p>\n",
    "<p style=\"font-family:palatino; text-align: center; color: #012169;font-size: 15px\">Emory University</a></p>\n",
    "\n",
    "&nbsp;"
   ]
  },
  {
   "cell_type": "code",
   "execution_count": null,
   "metadata": {},
   "outputs": [],
   "source": [
    "!jupyter nbconvert --to html H2_320Lab_DGP.ipynb"
   ]
  },
  {
   "cell_type": "code",
   "execution_count": null,
   "metadata": {},
   "outputs": [],
   "source": []
  }
 ],
 "metadata": {
  "kernelspec": {
   "display_name": "Python 3 (ipykernel)",
   "language": "python",
   "name": "python3"
  },
  "language_info": {
   "codemirror_mode": {
    "name": "ipython",
    "version": 3
   },
   "file_extension": ".py",
   "mimetype": "text/x-python",
   "name": "python",
   "nbconvert_exporter": "python",
   "pygments_lexer": "ipython3",
   "version": "3.12.4"
  },
  "varInspector": {
   "cols": {
    "lenName": 16,
    "lenType": 16,
    "lenVar": 40
   },
   "kernels_config": {
    "python": {
     "delete_cmd_postfix": "",
     "delete_cmd_prefix": "del ",
     "library": "var_list.py",
     "varRefreshCmd": "print(var_dic_list())"
    },
    "r": {
     "delete_cmd_postfix": ") ",
     "delete_cmd_prefix": "rm(",
     "library": "var_list.r",
     "varRefreshCmd": "cat(var_dic_list()) "
    }
   },
   "types_to_exclude": [
    "module",
    "function",
    "builtin_function_or_method",
    "instance",
    "_Feature"
   ],
   "window_display": false
  },
  "widgets": {
   "application/vnd.jupyter.widget-state+json": {
    "state": {},
    "version_major": 2,
    "version_minor": 0
   }
  }
 },
 "nbformat": 4,
 "nbformat_minor": 4
}
